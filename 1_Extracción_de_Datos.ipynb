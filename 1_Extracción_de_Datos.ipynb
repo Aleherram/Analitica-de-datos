{
  "nbformat": 4,
  "nbformat_minor": 0,
  "metadata": {
    "colab": {
      "provenance": [],
      "authorship_tag": "ABX9TyPmlihIw2/Zl3OxkunDm4hv",
      "include_colab_link": true
    },
    "kernelspec": {
      "name": "python3",
      "display_name": "Python 3"
    },
    "language_info": {
      "name": "python"
    }
  },
  "cells": [
    {
      "cell_type": "markdown",
      "metadata": {
        "id": "view-in-github",
        "colab_type": "text"
      },
      "source": [
        "<a href=\"https://colab.research.google.com/github/Aleherram/Analitica-de-datos/blob/main/1_Extracci%C3%B3n_de_Datos.ipynb\" target=\"_parent\"><img src=\"https://colab.research.google.com/assets/colab-badge.svg\" alt=\"Open In Colab\"/></a>"
      ]
    },
    {
      "cell_type": "code",
      "execution_count": 1,
      "metadata": {
        "id": "6Fu73FihBp8V"
      },
      "outputs": [],
      "source": [
        "import pandas as pd\n",
        "import numpy as np\n",
        "import matplotlib.pyplot as plt\n",
        "import seaborn as sns"
      ]
    },
    {
      "cell_type": "code",
      "source": [
        "from google.colab import files\n",
        "files.upload()"
      ],
      "metadata": {
        "id": "pef2Kb9WCKj3"
      },
      "execution_count": null,
      "outputs": []
    },
    {
      "cell_type": "code",
      "source": [
        "data=pd.read_csv(\"file.csv\")\n",
        "data.head(5)"
      ],
      "metadata": {
        "id": "nWZwFz2LCtyT"
      },
      "execution_count": null,
      "outputs": []
    },
    {
      "cell_type": "code",
      "source": [
        "filtro1=data[data[\"Sexo\"] == \"Mujeres\"]\n",
        "filtro1\n",
        "#se filtraron \"mujeres\" dentro de la variable \"sexo\""
      ],
      "metadata": {
        "id": "6hwwculODAby"
      },
      "execution_count": null,
      "outputs": []
    },
    {
      "cell_type": "code",
      "source": [
        "filtro2=data.iloc[ 10:16 , : ]\n",
        "filtro2\n",
        "#se filtran las filas consecutivas"
      ],
      "metadata": {
        "id": "_tqN1VgFDYxq"
      },
      "execution_count": null,
      "outputs": []
    },
    {
      "cell_type": "code",
      "source": [
        "filtro3=data.iloc[ : , [1,4,6]]\n",
        "filtro3\n",
        "#se filtran columnas no consecutivas"
      ],
      "metadata": {
        "id": "Ue7YS_n6DnFL"
      },
      "execution_count": null,
      "outputs": []
    },
    {
      "cell_type": "code",
      "source": [
        "data= pd.read_csv(\"file.csv\", index_col=2)\n",
        "data\n",
        "#paso 1, elegimos una columna como indice"
      ],
      "metadata": {
        "id": "y1Zi3L6ND15N"
      },
      "execution_count": null,
      "outputs": []
    },
    {
      "cell_type": "code",
      "source": [
        "filtro4=data.loc[[\"Puebla\",\"Durango\"], [\"Poblacion_ocupada_en_la_industria_manufacturera\"]]\n",
        "filtro4\n",
        "#filtamos las filas por categorias de la columna indice que elegimos vs las columnas que queremos"
      ],
      "metadata": {
        "id": "w_r0zogsEC08"
      },
      "execution_count": null,
      "outputs": []
    },
    {
      "cell_type": "code",
      "source": [
        "filtro5=data.head(10)\n",
        "filtro5\n",
        "#filtramos el numero de elementos que queremos"
      ],
      "metadata": {
        "id": "51m2ivb_Evdv"
      },
      "execution_count": null,
      "outputs": []
    },
    {
      "cell_type": "markdown",
      "source": [
        "Filtros variables cuantitativas\n"
      ],
      "metadata": {
        "id": "KgpjMgAaE_Nj"
      }
    },
    {
      "cell_type": "code",
      "source": [
        "filtro6=data[data[\"Periodo\"] > 2006]\n",
        "filtro6\n",
        "#filtramos por comparacion los datos mayores a 2006"
      ],
      "metadata": {
        "id": "iy30WWDBFB_5"
      },
      "execution_count": null,
      "outputs": []
    },
    {
      "cell_type": "code",
      "source": [
        "filtro7=data[(data[\"Periodo\"] > 2006) & (data[\"Sexo\"] == \"Mujeres\")]\n",
        "filtro7\n",
        "#Filtramos todo lo que cumpla nuestras condiciones que en este caso son que sean mayor a 2006 en periodo y que sean mujeres en sexo"
      ],
      "metadata": {
        "id": "4YB2EJTsFNLE"
      },
      "execution_count": null,
      "outputs": []
    },
    {
      "cell_type": "code",
      "source": [
        "filtro8=data[(data[\"Periodo\"] > 2006) | (data[\"Sexo\"] == \"Mujeres\")]\n",
        "filtro8\n",
        "#Filtramos todo lo que cumpla con alguna de nuestras condiciones que en este caso son que sean mayor a 2006 en periodo y que sean mujeres en sexo"
      ],
      "metadata": {
        "id": "EFgtyQo4FdIG"
      },
      "execution_count": null,
      "outputs": []
    },
    {
      "cell_type": "code",
      "source": [
        "filtro9=data[~(data[\"Periodo\"] >= 2006) & ~(data[\"Sexo\"] == \"Mujeres\")]\n",
        "filtro9\n",
        "#Filtramos todos los datos que no cumplan con nuestras condiciones, en este caso son que sean mayor a 2006 en periodo y que sean mujeres en sexo"
      ],
      "metadata": {
        "id": "FT-6w5NRFli1"
      },
      "execution_count": null,
      "outputs": []
    },
    {
      "cell_type": "code",
      "source": [
        "filtro9.to_csv(\"Entregable1.csv\")"
      ],
      "metadata": {
        "id": "3Jsnm4EMF1ez"
      },
      "execution_count": 23,
      "outputs": []
    },
    {
      "cell_type": "code",
      "source": [
        "from google.colab import files\n",
        "\n",
        "\n",
        "files.download(\"Entregable1.csv\")"
      ],
      "metadata": {
        "colab": {
          "base_uri": "https://localhost:8080/",
          "height": 17
        },
        "id": "5Uc3kxxTF4eP",
        "outputId": "9e1893ef-d754-41d9-fd4d-2001f65c3d00"
      },
      "execution_count": 24,
      "outputs": [
        {
          "output_type": "display_data",
          "data": {
            "text/plain": [
              "<IPython.core.display.Javascript object>"
            ],
            "application/javascript": [
              "\n",
              "    async function download(id, filename, size) {\n",
              "      if (!google.colab.kernel.accessAllowed) {\n",
              "        return;\n",
              "      }\n",
              "      const div = document.createElement('div');\n",
              "      const label = document.createElement('label');\n",
              "      label.textContent = `Downloading \"${filename}\": `;\n",
              "      div.appendChild(label);\n",
              "      const progress = document.createElement('progress');\n",
              "      progress.max = size;\n",
              "      div.appendChild(progress);\n",
              "      document.body.appendChild(div);\n",
              "\n",
              "      const buffers = [];\n",
              "      let downloaded = 0;\n",
              "\n",
              "      const channel = await google.colab.kernel.comms.open(id);\n",
              "      // Send a message to notify the kernel that we're ready.\n",
              "      channel.send({})\n",
              "\n",
              "      for await (const message of channel.messages) {\n",
              "        // Send a message to notify the kernel that we're ready.\n",
              "        channel.send({})\n",
              "        if (message.buffers) {\n",
              "          for (const buffer of message.buffers) {\n",
              "            buffers.push(buffer);\n",
              "            downloaded += buffer.byteLength;\n",
              "            progress.value = downloaded;\n",
              "          }\n",
              "        }\n",
              "      }\n",
              "      const blob = new Blob(buffers, {type: 'application/binary'});\n",
              "      const a = document.createElement('a');\n",
              "      a.href = window.URL.createObjectURL(blob);\n",
              "      a.download = filename;\n",
              "      div.appendChild(a);\n",
              "      a.click();\n",
              "      div.remove();\n",
              "    }\n",
              "  "
            ]
          },
          "metadata": {}
        },
        {
          "output_type": "display_data",
          "data": {
            "text/plain": [
              "<IPython.core.display.Javascript object>"
            ],
            "application/javascript": [
              "download(\"download_5f108caa-2f3e-41da-9783-7dc2385a415d\", \"Entregable1.csv\", 8568)"
            ]
          },
          "metadata": {}
        }
      ]
    }
  ]
}